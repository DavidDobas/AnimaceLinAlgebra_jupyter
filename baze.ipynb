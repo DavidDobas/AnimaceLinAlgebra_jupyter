{
 "cells": [
  {
   "cell_type": "markdown",
   "source": [
    "# Přechody mezi různými bázemi\n",
    "**Návod:** Postupně spouštějte jednotlivé buňky tlačítkem \"Run this cell\" vlevo od buňky. Buňky můžete upravovat. Vždy, když uděláte úpravu, buňku znovu spusťte."
   ],
   "metadata": {}
  },
  {
   "cell_type": "markdown",
   "source": [
    "Nejdříve spusťte tyto importy"
   ],
   "metadata": {}
  },
  {
   "cell_type": "code",
   "execution_count": 1,
   "source": [
    "from manim import *\n",
    "import numpy as np\n",
    "import imports as imp"
   ],
   "outputs": [
    {
     "output_type": "display_data",
     "data": {
      "text/html": [
       "<pre style=\"white-space:pre;overflow-x:auto;line-height:normal;font-family:Menlo,'DejaVu Sans Mono',consolas,'Courier New',monospace\">Manim Community <span style=\"color: #008000; text-decoration-color: #008000\">v0.11.0</span>\n",
       "\n",
       "</pre>\n"
      ],
      "text/plain": [
       "Manim Community \u001b[32mv0.\u001b[0m\u001b[32m11.0\u001b[0m\n",
       "\n"
      ]
     },
     "metadata": {}
    }
   ],
   "metadata": {}
  },
  {
   "cell_type": "markdown",
   "source": [
    "Zde si nadefinujeme různé body, jejich názvy a také bázi, do které chceme přejít."
   ],
   "metadata": {}
  },
  {
   "cell_type": "code",
   "execution_count": 2,
   "source": [
    "body = [(2,0), (2,2), (0,2), (-2,2), (-2,0), (-2,-2), (0,-2), (2,-2)]\n",
    "nazvy_bodu = ['A', 'B', 'C', 'D', 'E', 'F', 'G', 'H']\n",
    "\n",
    "baze = ((1,1), (1,-1))"
   ],
   "outputs": [],
   "metadata": {}
  },
  {
   "cell_type": "markdown",
   "source": [
    "Pak spusťte tento kód a dostanete animaci."
   ],
   "metadata": {}
  },
  {
   "cell_type": "code",
   "execution_count": 3,
   "source": [
    "%%manim -v WARNING --disable_caching -ql --frame_rate 30 Base\n",
    "config.media_width = \"75%\"\n",
    "\n",
    "class Base(LinearTransformationScene):\n",
    "    def construct(self):\n",
    "        imp.animate(self, body, nazvy_bodu, baze)    "
   ],
   "outputs": [
    {
     "output_type": "stream",
     "name": "stderr",
     "text": []
    },
    {
     "output_type": "display_data",
     "data": {
      "text/html": [
       "<video src=\"media\\jupyter\\Base@2021-10-03@17-08-16.mp4\" controls autoplay loop style=\"max-width: 75%;\"  >\n",
       "      Your browser does not support the <code>video</code> element.\n",
       "    </video>"
      ],
      "text/plain": [
       "<IPython.core.display.Video object>"
      ]
     },
     "metadata": {}
    }
   ],
   "metadata": {}
  },
  {
   "cell_type": "markdown",
   "source": [
    "Tady si můžete zadat libovolnou křivku, kterou pak budete chtít zobrazit v nových souřadnicích. Můžete si vybrat, jestli chcete parametrickou křivku nebo křivku zadanou implicitně. V obou případech najdete ve výchozím stavu elipsu.\n",
    "\n",
    "**Úkol 1:** Najděte takové báze, ve kterých budou zadané elipsy vypadat jako kruh. Existuje víc možností?\n",
    "\n",
    "**Úkol 2:** Zamyslete se, jak byste našli takovou bázi bez obrázku, pouze z implicitního zadání."
   ],
   "metadata": {}
  },
  {
   "cell_type": "code",
   "execution_count": 4,
   "source": [
    "baze = ((1,1), (1,-1))\n",
    "\n",
    "def curve_parametric(t):\n",
    "        return np.array((3*np.cos(t)-2*np.sin(t), 3*np.cos(t)+2*np.sin(t), 0))\n",
    "\n",
    "def curve_implicit(x, y):\n",
    "        return ((x+3*y)/4)**2 + ((x-y)/4)**2 - 1"
   ],
   "outputs": [],
   "metadata": {}
  },
  {
   "cell_type": "code",
   "execution_count": 6,
   "source": [
    "%%manim -v WARNING --disable_caching -ql --frame_rate 30 Base\n",
    "config.media_width = \"75%\"\n",
    "\n",
    "class Base(LinearTransformationScene):\n",
    "    def construct(self):\n",
    "        imp.animate_curve(self, curve_parametric, baze)  # pro implicitni krivku vymente 'curve_parametric' za 'curve_implicit'\n",
    "\n"
   ],
   "outputs": [
    {
     "output_type": "stream",
     "name": "stderr",
     "text": []
    },
    {
     "output_type": "display_data",
     "data": {
      "text/html": [
       "<video src=\"media\\jupyter\\Base@2021-10-03@17-43-47.mp4\" controls autoplay loop style=\"max-width: 75%;\"  >\n",
       "      Your browser does not support the <code>video</code> element.\n",
       "    </video>"
      ],
      "text/plain": [
       "<IPython.core.display.Video object>"
      ]
     },
     "metadata": {}
    }
   ],
   "metadata": {}
  }
 ],
 "metadata": {
  "orig_nbformat": 4,
  "language_info": {
   "name": "python",
   "version": "3.9.6",
   "mimetype": "text/x-python",
   "codemirror_mode": {
    "name": "ipython",
    "version": 3
   },
   "pygments_lexer": "ipython3",
   "nbconvert_exporter": "python",
   "file_extension": ".py"
  },
  "kernelspec": {
   "name": "python3",
   "display_name": "Python 3.9.6 64-bit ('manim_env': conda)"
  },
  "interpreter": {
   "hash": "9792aed6d03180f47d41a5b5288ad1320e1327e20325d6461e23c4d17ff9cce1"
  }
 },
 "nbformat": 4,
 "nbformat_minor": 2
}