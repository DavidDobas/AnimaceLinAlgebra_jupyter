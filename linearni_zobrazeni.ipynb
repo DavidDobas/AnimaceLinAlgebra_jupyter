{
 "cells": [
  {
   "cell_type": "markdown",
   "metadata": {},
   "source": [
    "# Lineární zobrazení a jejich matice"
   ]
  },
  {
   "cell_type": "markdown",
   "metadata": {},
   "source": [
    "Tento interaktivní notebook se věnuje lineárním zobrazením a jejich maticím. \n",
    "\n",
    "Nejdříve spusťte následující buňku."
   ]
  },
  {
   "cell_type": "code",
   "execution_count": 1,
   "metadata": {},
   "outputs": [
    {
     "data": {
      "text/html": [
       "<pre style=\"white-space:pre;overflow-x:auto;line-height:normal;font-family:Menlo,'DejaVu Sans Mono',consolas,'Courier New',monospace\">Manim Community <span style=\"color: #008000; text-decoration-color: #008000\">v0.13.1</span>\n",
       "\n",
       "</pre>\n"
      ],
      "text/plain": [
       "Manim Community \u001b[32mv0.\u001b[0m\u001b[32m13.1\u001b[0m\n",
       "\n"
      ]
     },
     "metadata": {},
     "output_type": "display_data"
    }
   ],
   "source": [
    "from manim import *\n",
    "from numpy import *\n",
    "import imports as imp"
   ]
  },
  {
   "cell_type": "markdown",
   "metadata": {},
   "source": [
    "V následující buňce si můžete zkusit zadat libovolné zobrazení z R2 do R2 a podívat se, jak působí na celou mřížku v R2. Lineární zobrazení byste měli poznat tak, že mřížku zobrazí opět na mřížku a nulu na nulu. Rozhodně nebude mřížku nijak vlnit. Zobrazení, které je zde zadáno, je tedy hodně nelineární. "
   ]
  },
  {
   "cell_type": "code",
   "execution_count": 2,
   "metadata": {},
   "outputs": [],
   "source": [
    "def f(x, y):\n",
    "    return [x+y*y, sin(x)-y]"
   ]
  },
  {
   "cell_type": "markdown",
   "metadata": {},
   "source": [
    "Spusťte následující buňku a zobrazí se animace."
   ]
  },
  {
   "cell_type": "code",
   "execution_count": 3,
   "metadata": {},
   "outputs": [
    {
     "name": "stderr",
     "output_type": "stream",
     "text": []
    },
    {
     "data": {
      "text/html": [
       "<video src=\"media\\jupyter\\NonLinearTransformation@2021-12-05@22-07-35.mp4\" controls autoplay loop style=\"max-width: 75%;\"  >\n",
       "      Your browser does not support the <code>video</code> element.\n",
       "    </video>"
      ],
      "text/plain": [
       "<IPython.core.display.Video object>"
      ]
     },
     "metadata": {},
     "output_type": "display_data"
    }
   ],
   "source": [
    "%%manim -v WARNING --disable_caching -ql --frame_rate 20 NonLinearTransformation\n",
    "config.media_width = \"75%\"\n",
    "\n",
    "class NonLinearTransformation(Scene):\n",
    "\n",
    "    def construct(self):\n",
    "\n",
    "        grid = NumberPlane(x_range=np.array([-15, 15, 1]), y_range=np.array([-10, 10, 1])) \n",
    "        self.add(grid)       \n",
    "        self.wait(2)\n",
    "        grid.prepare_for_nonlinear_transform()\n",
    "        self.play(\n",
    "            grid.animate.apply_function(\n",
    "                lambda p: [f(p[0], p[1])[0], f(p[0], p[1])[1], 0]\n",
    "            ),\n",
    "            run_time=3,\n",
    "        )\n",
    "        self.wait()"
   ]
  },
  {
   "cell_type": "markdown",
   "metadata": {},
   "source": [
    "Spuštěním následující buňky se vám zobrazí applet, ve kterém si můžete různě nastavovat obrazy standardní báze při zobrazení A (buď je zadejte do jednotlivých polí, nebo hýbejte s vektory). Uvidíte matici tohoto zobrazení a také to, jak se zobrazí obrázek Mona Lisy."
   ]
  },
  {
   "cell_type": "code",
   "execution_count": 16,
   "metadata": {},
   "outputs": [
    {
     "data": {
      "text/html": [
       "\n",
       "        <iframe\n",
       "            width=\"900\"\n",
       "            height=\"600\"\n",
       "            src=\"https://www.geogebra.org/material/iframe/id/a2njghxm/width/900/height/600/border/888888/sfsb/true/smb/false/stb/false/stbh/false/ai/false/asb/false/sri/false/rc/false/ld/false/sdz/true/ctl/false\"\n",
       "            frameborder=\"0\"\n",
       "            allowfullscreen\n",
       "        ></iframe>\n",
       "        "
      ],
      "text/plain": [
       "<IPython.lib.display.IFrame at 0x1d7e94adc70>"
      ]
     },
     "execution_count": 16,
     "metadata": {},
     "output_type": "execute_result"
    }
   ],
   "source": [
    "# Spustte tuto bunku\n",
    "from IPython.display import IFrame\n",
    "IFrame('https://www.geogebra.org/material/iframe/id/a2njghxm/width/900/height/600/border/888888/sfsb/true/smb/false/stb/false/stbh/false/ai/false/asb/false/sri/false/rc/false/ld/false/sdz/true/ctl/false', width=900, height=600)\n"
   ]
  },
  {
   "cell_type": "markdown",
   "metadata": {},
   "source": [
    "V následujícím kódu si můžete sami nastavit matici lineárního zobrazení a podívat se, jak bude působit na čtverec, podobně jako když jsme v minulém notebooku přecházeli mezi bázemi."
   ]
  },
  {
   "cell_type": "code",
   "execution_count": 2,
   "metadata": {},
   "outputs": [],
   "source": [
    "body = [(2,0), (2,2), (0,2), (-2,2), (-2,0), (-2,-2), (0,-2), (2,-2)]\n",
    "nazvy_bodu = ['A', 'B', 'C', 'D', 'E', 'F', 'G', 'H']\n",
    "\n",
    "matice = [[1,1],\n",
    "          [1,-1]]"
   ]
  },
  {
   "cell_type": "code",
   "execution_count": 3,
   "metadata": {},
   "outputs": [
    {
     "name": "stderr",
     "output_type": "stream",
     "text": []
    },
    {
     "data": {
      "text/html": [
       "<video src=\"media\\jupyter\\Base@2021-12-12@15-03-02.mp4\" controls autoplay loop style=\"max-width: 100%;\"  >\n",
       "      Your browser does not support the <code>video</code> element.\n",
       "    </video>"
      ],
      "text/plain": [
       "<IPython.core.display.Video object>"
      ]
     },
     "metadata": {},
     "output_type": "display_data"
    }
   ],
   "source": [
    "%%manim -v WARNING --disable_caching -ql --frame_rate 20 Base\n",
    "# pro rychlejsi animaci upravte frame_rate, nizsi je rychlejsi\n",
    "config.frame_width = 25\n",
    "config.media_width = \"100%\"\n",
    "\n",
    "class Base(LinearTransformationScene):\n",
    "\n",
    "    def construct(self):\n",
    "        imp.apply_matrix_on_square(self, body, nazvy_bodu, matice)    "
   ]
  },
  {
   "cell_type": "markdown",
   "metadata": {},
   "source": [
    "Stejně jako v minulém notebooku i zde si můžete zkusit pouštět lineární zobrazení na různé křivky. Nezapomeňte, že po každé změně buňky ji je třeba znovu spustit.\n",
    "\n",
    "**Úkol:** Najděte taková lineární zobrazení, která zadané elipsy zobrazí na kruhy. Existuje víc možností?"
   ]
  },
  {
   "cell_type": "code",
   "execution_count": 4,
   "metadata": {},
   "outputs": [],
   "source": [
    "matice2 = [[1,2],\n",
    "          [1,-1]]\n",
    "\n",
    "def curve_parametric(t):\n",
    "        return (3*cos(t)-2*sin(t), 3*cos(t)+2*sin(t)) # jednotková kružnice by byla: return (cos(t), sin(t))\n",
    "\n",
    "def curve_implicit(x, y):\n",
    "        return ((2*x+y)/10)**2 + ((x-2*y)/5)**2 - 1 # jednotková kružnice by byla: return x**2 + y**2 - 1"
   ]
  },
  {
   "cell_type": "code",
   "execution_count": 5,
   "metadata": {},
   "outputs": [
    {
     "name": "stderr",
     "output_type": "stream",
     "text": []
    },
    {
     "data": {
      "text/html": [
       "<video src=\"media\\jupyter\\Base@2021-12-12@15-05-39.mp4\" controls autoplay loop style=\"max-width: 100%;\"  >\n",
       "      Your browser does not support the <code>video</code> element.\n",
       "    </video>"
      ],
      "text/plain": [
       "<IPython.core.display.Video object>"
      ]
     },
     "metadata": {},
     "output_type": "display_data"
    }
   ],
   "source": [
    "%%manim -v WARNING --disable_caching -ql --frame_rate 20 Base \n",
    "# pro rychlejsi animaci upravte frame_rate, nizsi je rychlejsi\n",
    "config.frame_width = 25\n",
    "config.media_width = \"100%\"\n",
    "\n",
    "class Base(LinearTransformationScene):\n",
    "    def construct(self):\n",
    "        imp.apply_matrix_on_curve(self, curve_parametric, matice2)  # pro implicitni krivku vymente 'curve_parametric' za 'curve_implicit'"
   ]
  }
 ],
 "metadata": {
  "interpreter": {
   "hash": "9792aed6d03180f47d41a5b5288ad1320e1327e20325d6461e23c4d17ff9cce1"
  },
  "kernelspec": {
   "display_name": "Python 3.9.6 64-bit ('manim_env': conda)",
   "name": "python3"
  },
  "language_info": {
   "codemirror_mode": {
    "name": "ipython",
    "version": 3
   },
   "file_extension": ".py",
   "mimetype": "text/x-python",
   "name": "python",
   "nbconvert_exporter": "python",
   "pygments_lexer": "ipython3",
   "version": "3.9.6"
  },
  "orig_nbformat": 4
 },
 "nbformat": 4,
 "nbformat_minor": 2
}
