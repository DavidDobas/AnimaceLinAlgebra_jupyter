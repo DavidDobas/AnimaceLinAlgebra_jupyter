{
 "cells": [
  {
   "cell_type": "code",
   "execution_count": 4,
   "source": [
    "from manim import *"
   ],
   "outputs": [],
   "metadata": {}
  },
  {
   "cell_type": "code",
   "execution_count": 6,
   "source": [
    "%%manim -v WARNING --disable_caching -ql LinearTransformation\r\n",
    "config.media_width = \"75%\"\r\n",
    "\r\n",
    "class LinearTransformation(LinearTransformationScene):\r\n",
    "\r\n",
    "    def construct(self):\r\n",
    "        matrix = [[1, 1], [0, -1]]\r\n",
    "        self.apply_matrix(matrix)\r\n",
    "        self.wait()"
   ],
   "outputs": [
    {
     "output_type": "stream",
     "name": "stderr",
     "text": []
    },
    {
     "output_type": "display_data",
     "data": {
      "text/html": [
       "<video src=\"media\\jupyter\\LinearTransformation@2021-09-07@23-37-43.mp4\" controls autoplay loop style=\"max-width: 75%;\"  >\n",
       "      Your browser does not support the <code>video</code> element.\n",
       "    </video>"
      ],
      "text/plain": [
       "<IPython.core.display.Video object>"
      ]
     },
     "metadata": {}
    }
   ],
   "metadata": {}
  }
 ],
 "metadata": {
  "orig_nbformat": 4,
  "language_info": {
   "name": "python",
   "version": "3.9.6",
   "mimetype": "text/x-python",
   "codemirror_mode": {
    "name": "ipython",
    "version": 3
   },
   "pygments_lexer": "ipython3",
   "nbconvert_exporter": "python",
   "file_extension": ".py"
  },
  "kernelspec": {
   "name": "python3",
   "display_name": "Python 3.9.6 64-bit ('manim_env': conda)"
  },
  "interpreter": {
   "hash": "9792aed6d03180f47d41a5b5288ad1320e1327e20325d6461e23c4d17ff9cce1"
  }
 },
 "nbformat": 4,
 "nbformat_minor": 2
}