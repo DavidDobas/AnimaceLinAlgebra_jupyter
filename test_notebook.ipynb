{
 "cells": [
  {
   "cell_type": "markdown",
   "source": [
    "# Zkušební interaktivní notebook\r\n",
    "Nejdříve spusťte tyto importy"
   ],
   "metadata": {}
  },
  {
   "cell_type": "code",
   "execution_count": 56,
   "source": [
    "from manim import *\r\n",
    "from numpy import *"
   ],
   "outputs": [],
   "metadata": {}
  },
  {
   "cell_type": "markdown",
   "source": [
    "Zde nadefinujte libovolnou matici 2x2"
   ],
   "metadata": {}
  },
  {
   "cell_type": "code",
   "execution_count": 66,
   "source": [
    "matrix =    [[1, 1], \r\n",
    "             [0, -1]]"
   ],
   "outputs": [],
   "metadata": {}
  },
  {
   "cell_type": "markdown",
   "source": [
    "Potom spusťte tento kód a vytvoří se animace"
   ],
   "metadata": {}
  },
  {
   "cell_type": "code",
   "execution_count": 58,
   "source": [
    "%%manim -v WARNING --disable_caching -ql LinearTransformation\r\n",
    "config.media_width = \"75%\"\r\n",
    "\r\n",
    "class LinearTransformation(LinearTransformationScene):\r\n",
    "\r\n",
    "    def construct(self):\r\n",
    "        self.apply_matrix(matrix)\r\n",
    "        self.wait()"
   ],
   "outputs": [
    {
     "output_type": "stream",
     "name": "stderr",
     "text": []
    },
    {
     "output_type": "display_data",
     "data": {
      "text/html": [
       "<video src=\"media\\jupyter\\LinearTransformation@2021-09-08@00-25-48.mp4\" controls autoplay loop style=\"max-width: 75%;\"  >\n",
       "      Your browser does not support the <code>video</code> element.\n",
       "    </video>"
      ],
      "text/plain": [
       "<IPython.core.display.Video object>"
      ]
     },
     "metadata": {}
    }
   ],
   "metadata": {}
  },
  {
   "cell_type": "markdown",
   "source": [
    "Teď nadefinujte libovolnou funkci, která vektoru (x, y) přiřadí obraz v R2"
   ],
   "metadata": {}
  },
  {
   "cell_type": "code",
   "execution_count": 63,
   "source": [
    "def f(x, y):\r\n",
    "    return [x+y*y, sin(x)-y]"
   ],
   "outputs": [],
   "metadata": {}
  },
  {
   "cell_type": "markdown",
   "source": [
    "Spusťte tento kód a vytvoří se animace"
   ],
   "metadata": {}
  },
  {
   "cell_type": "code",
   "execution_count": 64,
   "source": [
    "%%manim -v WARNING --disable_caching -ql NonLinearTransformation\r\n",
    "config.media_width = \"75%\"\r\n",
    "\r\n",
    "class NonLinearTransformation(Scene):\r\n",
    "\r\n",
    "    def construct(self):\r\n",
    "\r\n",
    "        grid = NumberPlane()\r\n",
    "        grid.prepare_for_nonlinear_transform()\r\n",
    "        self.play(\r\n",
    "            grid.animate.apply_function(\r\n",
    "                lambda p: [f(p[0], p[1])[0], f(p[0], p[1])[1], 0]\r\n",
    "            ),\r\n",
    "            run_time=3,\r\n",
    "        )\r\n",
    "        self.wait()"
   ],
   "outputs": [
    {
     "output_type": "stream",
     "name": "stderr",
     "text": []
    },
    {
     "output_type": "display_data",
     "data": {
      "text/html": [
       "<video src=\"media\\jupyter\\NonLinearTransformation@2021-09-08@00-26-31.mp4\" controls autoplay loop style=\"max-width: 75%;\"  >\n",
       "      Your browser does not support the <code>video</code> element.\n",
       "    </video>"
      ],
      "text/plain": [
       "<IPython.core.display.Video object>"
      ]
     },
     "metadata": {}
    }
   ],
   "metadata": {}
  }
 ],
 "metadata": {
  "orig_nbformat": 4,
  "language_info": {
   "name": "python",
   "version": "3.9.6",
   "mimetype": "text/x-python",
   "codemirror_mode": {
    "name": "ipython",
    "version": 3
   },
   "pygments_lexer": "ipython3",
   "nbconvert_exporter": "python",
   "file_extension": ".py"
  },
  "kernelspec": {
   "name": "python3",
   "display_name": "Python 3.9.6 64-bit ('manim_env': conda)"
  },
  "interpreter": {
   "hash": "9792aed6d03180f47d41a5b5288ad1320e1327e20325d6461e23c4d17ff9cce1"
  }
 },
 "nbformat": 4,
 "nbformat_minor": 2
}