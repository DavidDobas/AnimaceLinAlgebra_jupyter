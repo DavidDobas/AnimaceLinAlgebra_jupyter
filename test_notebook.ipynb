{
 "cells": [
  {
   "cell_type": "code",
   "execution_count": 2,
   "source": [
    "from manim import *"
   ],
   "outputs": [
    {
     "output_type": "display_data",
     "data": {
      "text/html": [
       "<pre style=\"white-space:pre;overflow-x:auto;line-height:normal;font-family:Menlo,'DejaVu Sans Mono',consolas,'Courier New',monospace\">Manim Community <span style=\"color: #008000; text-decoration-color: #008000\">v0.10.0</span>\n",
       "\n",
       "</pre>\n"
      ],
      "text/plain": [
       "Manim Community \u001b[32mv0.\u001b[0m\u001b[32m10.0\u001b[0m\n",
       "\n"
      ]
     },
     "metadata": {}
    }
   ],
   "metadata": {}
  },
  {
   "cell_type": "code",
   "execution_count": 3,
   "source": [
    "%%manim -v WARNING --disable_caching -ql Ellipsoid2\r\n",
    "config.media_width = \"75%\"\r\n",
    "\r\n",
    "class Ellipsoid2(ThreeDScene):\r\n",
    "    def construct(self):\r\n",
    "        axes = ThreeDAxes()\r\n",
    "        z_matrix = lambda t: np.matrix([[np.cos(t), np.sin(t), 0], [-np.sin(t), np.cos(t), 0], [0, 0, 1]])\r\n",
    "        y_matrix = lambda t: np.matrix([[np.cos(t), 0, np.sin(t)], [0, 1, 0], [-np.sin(t), 0, np.cos(t)]])\r\n",
    "        \r\n",
    "        ellips1 = ParametricSurface(\r\n",
    "            lambda u, v: np.array([\r\n",
    "                3 * np.cos(u) * np.cos(v),\r\n",
    "                2 * np.cos(u) * np.sin(v),\r\n",
    "                1.5 * np.sin(u)\r\n",
    "            ]), v_min=0, v_max=TAU, u_min=-PI / 2, u_max=PI / 2,\r\n",
    "            checkerboard_colors=[RED_D, RED_E], resolution=(15, 32)\r\n",
    "        )\r\n",
    "        ellips1.set_style(fill_opacity=1,stroke_color=GREEN)\r\n",
    "        self.renderer.camera.light_source.move_to(3*IN) # changes the source of the light\r\n",
    "        self.set_camera_orientation(phi=65* DEGREES, theta=-70 * DEGREES)\r\n",
    "        ellips1.apply_matrix(y_matrix(PI/4))\r\n",
    "        ellips1.apply_matrix(z_matrix(PI/2))\r\n",
    "        self.add(axes, ellips1)\r\n",
    "       \r\n",
    "        self.play(Rotate(ellips1, PI/2, axis=np.array([0.0, 0.0, 1.0]), run_time=1.0))\r\n",
    "        self.play(ApplyMatrix(y_matrix(-PI/4), ellips1))\r\n",
    "        \r\n",
    "        self.play(Rotate(ellips1, PI/2, axis=np.array([1.0, 0.0, 0])))\r\n",
    "        self.wait(2)"
   ],
   "outputs": [
    {
     "output_type": "display_data",
     "data": {
      "text/html": [
       "<pre style=\"white-space:pre;overflow-x:auto;line-height:normal;font-family:Menlo,'DejaVu Sans Mono',consolas,'Courier New',monospace\"><span style=\"color: #7fbfbf; text-decoration-color: #7fbfbf\">[09/07/21 15:54:08] </span><span style=\"color: #800000; text-decoration-color: #800000\">WARNING </span> The class ParametricSurface has been          <a href=\"file://C:\\Users\\david\\anaconda3\\envs\\manim_env\\lib\\site-packages\\manim\\utils\\deprecation.py\"><span style=\"color: #7f7f7f; text-decoration-color: #7f7f7f\">deprecation.py</span></a><span style=\"color: #7f7f7f; text-decoration-color: #7f7f7f\">:208</span>\n",
       "                             deprecated since v0.<span style=\"color: #008000; text-decoration-color: #008000\">10.0</span> and may be removed                     \n",
       "                             in a later version. Use <span style=\"font-weight: bold\">&lt;</span><span style=\"color: #ff00ff; text-decoration-color: #ff00ff; font-weight: bold\">class</span><span style=\"color: #000000; text-decoration-color: #000000\"> </span>                                 \n",
       "                             <span style=\"color: #008000; text-decoration-color: #008000\">'manim.mobject.three_dimensions.Surface'</span><span style=\"font-weight: bold\">&gt;</span>                       \n",
       "                             instead.                                                        \n",
       "</pre>\n"
      ],
      "text/plain": [
       "\u001b[2;36m[09/07/21 15:54:08]\u001b[0m\u001b[2;36m \u001b[0m\u001b[31mWARNING \u001b[0m The class ParametricSurface has been          \u001b]8;id=677041;file://C:\\Users\\david\\anaconda3\\envs\\manim_env\\lib\\site-packages\\manim\\utils\\deprecation.py\u001b\\\u001b[2mdeprecation.py\u001b[0m\u001b]8;;\u001b\\\u001b[2m:208\u001b[0m\n",
       "                             deprecated since v0.\u001b[32m10.0\u001b[0m and may be removed                     \n",
       "                             in a later version. Use \u001b[1m<\u001b[0m\u001b[1;95mclass\u001b[0m\u001b[39m \u001b[0m                                 \n",
       "                             \u001b[32m'manim.mobject.three_dimensions.Surface'\u001b[0m\u001b[1m>\u001b[0m                       \n",
       "                             instead.                                                        \n"
      ]
     },
     "metadata": {}
    },
    {
     "output_type": "display_data",
     "data": {
      "text/html": [
       "<pre style=\"white-space:pre;overflow-x:auto;line-height:normal;font-family:Menlo,'DejaVu Sans Mono',consolas,'Courier New',monospace\"><span style=\"color: #7fbfbf; text-decoration-color: #7fbfbf\">                    </span><span style=\"color: #800000; text-decoration-color: #800000\">WARNING </span> The parameters u_min, u_max, v_min and v_max  <a href=\"file://C:\\Users\\david\\anaconda3\\envs\\manim_env\\lib\\site-packages\\manim\\utils\\deprecation.py\"><span style=\"color: #7f7f7f; text-decoration-color: #7f7f7f\">deprecation.py</span></a><span style=\"color: #7f7f7f; text-decoration-color: #7f7f7f\">:462</span>\n",
       "                             of method Surface.__init__ have been                            \n",
       "                             deprecated since v0.<span style=\"color: #008000; text-decoration-color: #008000\">9.0</span> and is expected to be                   \n",
       "                             removed after v0.<span style=\"color: #008000; text-decoration-color: #008000\">10.0</span>. Use u_range and                          \n",
       "                             v_range instead.                                                \n",
       "</pre>\n"
      ],
      "text/plain": [
       "\u001b[2;36m                   \u001b[0m\u001b[2;36m \u001b[0m\u001b[31mWARNING \u001b[0m The parameters u_min, u_max, v_min and v_max  \u001b]8;id=72891;file://C:\\Users\\david\\anaconda3\\envs\\manim_env\\lib\\site-packages\\manim\\utils\\deprecation.py\u001b\\\u001b[2mdeprecation.py\u001b[0m\u001b]8;;\u001b\\\u001b[2m:462\u001b[0m\n",
       "                             of method Surface.__init__ have been                            \n",
       "                             deprecated since v0.\u001b[32m9.0\u001b[0m and is expected to be                   \n",
       "                             removed after v0.\u001b[32m10.0\u001b[0m. Use u_range and                          \n",
       "                             v_range instead.                                                \n"
      ]
     },
     "metadata": {}
    },
    {
     "output_type": "stream",
     "name": "stderr",
     "text": []
    },
    {
     "output_type": "display_data",
     "data": {
      "text/html": [
       "<video src=\"media\\jupyter\\Ellipsoid2@2021-09-07@15-55-43.mp4\" controls autoplay loop style=\"max-width: 75%;\"  >\n",
       "      Your browser does not support the <code>video</code> element.\n",
       "    </video>"
      ],
      "text/plain": [
       "<IPython.core.display.Video object>"
      ]
     },
     "metadata": {}
    }
   ],
   "metadata": {}
  }
 ],
 "metadata": {
  "orig_nbformat": 4,
  "language_info": {
   "name": "python",
   "version": "3.9.6",
   "mimetype": "text/x-python",
   "codemirror_mode": {
    "name": "ipython",
    "version": 3
   },
   "pygments_lexer": "ipython3",
   "nbconvert_exporter": "python",
   "file_extension": ".py"
  },
  "kernelspec": {
   "name": "python3",
   "display_name": "Python 3.9.6 64-bit ('manim_env': conda)"
  },
  "interpreter": {
   "hash": "9792aed6d03180f47d41a5b5288ad1320e1327e20325d6461e23c4d17ff9cce1"
  }
 },
 "nbformat": 4,
 "nbformat_minor": 2
}