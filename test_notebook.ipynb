{
 "cells": [
  {
   "cell_type": "code",
   "execution_count": 52,
   "source": [
    "from manim import *\r\n",
    "from numpy import *"
   ],
   "outputs": [],
   "metadata": {}
  },
  {
   "cell_type": "code",
   "execution_count": 54,
   "source": [
    "%%manim -v WARNING --disable_caching -ql LinearTransformation\r\n",
    "config.media_width = \"75%\"\r\n",
    "\r\n",
    "class LinearTransformation(LinearTransformationScene):\r\n",
    "\r\n",
    "    def construct(self):\r\n",
    "        matrix = [[1, 1], [0, -1]]\r\n",
    "        self.apply_matrix(matrix)\r\n",
    "        self.wait()"
   ],
   "outputs": [
    {
     "output_type": "stream",
     "name": "stderr",
     "text": []
    },
    {
     "output_type": "stream",
     "name": "stdout",
     "text": [
      "-0.7568024953079282\n"
     ]
    },
    {
     "output_type": "display_data",
     "data": {
      "text/html": [
       "<video src=\"media\\jupyter\\LinearTransformation@2021-09-08@00-21-23.mp4\" controls autoplay loop style=\"max-width: 75%;\"  >\n",
       "      Your browser does not support the <code>video</code> element.\n",
       "    </video>"
      ],
      "text/plain": [
       "<IPython.core.display.Video object>"
      ]
     },
     "metadata": {}
    }
   ],
   "metadata": {}
  },
  {
   "cell_type": "code",
   "execution_count": 55,
   "source": [
    "%%manim -v WARNING --disable_caching -ql NonLinearTransformation\r\n",
    "config.media_width = \"75%\"\r\n",
    "\r\n",
    "class NonLinearTransformation(Scene):\r\n",
    "\r\n",
    "    def construct(self):\r\n",
    "        def f(x, y):\r\n",
    "            return [x+y*y, sin(x)-y]\r\n",
    "\r\n",
    "        grid = NumberPlane()\r\n",
    "        grid.prepare_for_nonlinear_transform()\r\n",
    "        self.play(\r\n",
    "            grid.animate.apply_function(\r\n",
    "                lambda p: [f(p[0], p[1])[0], f(p[0], p[1])[1], 0]\r\n",
    "            ),\r\n",
    "            run_time=3,\r\n",
    "        )\r\n",
    "        self.wait()"
   ],
   "outputs": [
    {
     "output_type": "stream",
     "name": "stderr",
     "text": []
    },
    {
     "output_type": "display_data",
     "data": {
      "text/html": [
       "<video src=\"media\\jupyter\\NonLinearTransformation@2021-09-08@00-22-41.mp4\" controls autoplay loop style=\"max-width: 75%;\"  >\n",
       "      Your browser does not support the <code>video</code> element.\n",
       "    </video>"
      ],
      "text/plain": [
       "<IPython.core.display.Video object>"
      ]
     },
     "metadata": {}
    }
   ],
   "metadata": {}
  }
 ],
 "metadata": {
  "orig_nbformat": 4,
  "language_info": {
   "name": "python",
   "version": "3.9.6",
   "mimetype": "text/x-python",
   "codemirror_mode": {
    "name": "ipython",
    "version": 3
   },
   "pygments_lexer": "ipython3",
   "nbconvert_exporter": "python",
   "file_extension": ".py"
  },
  "kernelspec": {
   "name": "python3",
   "display_name": "Python 3.9.6 64-bit ('manim_env': conda)"
  },
  "interpreter": {
   "hash": "9792aed6d03180f47d41a5b5288ad1320e1327e20325d6461e23c4d17ff9cce1"
  }
 },
 "nbformat": 4,
 "nbformat_minor": 2
}