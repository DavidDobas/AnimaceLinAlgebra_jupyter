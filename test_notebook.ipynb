{
 "cells": [
  {
   "cell_type": "code",
   "execution_count": null,
   "source": [
    "from manim import *"
   ],
   "outputs": [],
   "metadata": {}
  },
  {
   "cell_type": "code",
   "execution_count": null,
   "source": [
    "class Ellipsoid(ThreeDScene):\r\n",
    "    def construct(self):\r\n",
    "        axes = ThreeDAxes()\r\n",
    "        t=PI/4\r\n",
    "        matrix = np.matrix([[np.cos(t), 0, np.sin(t)], [0, 1, 0], [-np.sin(t), 0, np.cos(t)]])\r\n",
    "        ellips1 = ParametricSurface(\r\n",
    "            lambda u, v: np.matmul(matrix, np.array([\r\n",
    "                3 * np.cos(u) * np.cos(v),\r\n",
    "                2 * np.cos(u) * np.sin(v),\r\n",
    "                1.5 * np.sin(u)\r\n",
    "            ])), v_min=0, v_max=TAU, u_min=-PI / 2, u_max=PI / 2,\r\n",
    "            checkerboard_colors=[RED_D, RED_E], resolution=(15, 32)\r\n",
    "        )\r\n",
    "        ellips2 = ParametricSurface(\r\n",
    "            lambda u, v: np.array([\r\n",
    "                3 * np.cos(u) * np.cos(v),\r\n",
    "                2 * np.cos(u) * np.sin(v),\r\n",
    "                1.5 * np.sin(u)\r\n",
    "            ]), v_min=0, v_max=TAU, u_min=-PI / 2, u_max=PI / 2,\r\n",
    "            checkerboard_colors=[RED_D, RED_E], resolution=(15, 32)\r\n",
    "        )\r\n",
    "        self.renderer.camera.light_source.move_to(3*IN) # changes the source of the light\r\n",
    "        self.set_camera_orientation(phi=65* DEGREES, theta=-70 * DEGREES)\r\n",
    "        self.add(axes, ellips1)\r\n",
    "        self.play(Transform(ellips1,ellips2))\r\n",
    "        self.wait(2)"
   ],
   "outputs": [],
   "metadata": {}
  }
 ],
 "metadata": {
  "orig_nbformat": 4,
  "language_info": {
   "name": "python",
   "version": "3.9.6"
  },
  "kernelspec": {
   "name": "python3",
   "display_name": "Python 3.9.6 64-bit ('manim_env': conda)"
  },
  "interpreter": {
   "hash": "9792aed6d03180f47d41a5b5288ad1320e1327e20325d6461e23c4d17ff9cce1"
  }
 },
 "nbformat": 4,
 "nbformat_minor": 2
}