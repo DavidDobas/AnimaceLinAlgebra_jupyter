{
 "cells": [
  {
   "cell_type": "markdown",
   "source": [
    "# Vektor v různých bázích"
   ],
   "metadata": {}
  },
  {
   "cell_type": "markdown",
   "source": [
    "Vítejte v prvním **interaktivním notebooku** k přednášce z lineární algebry.\r\n",
    "Jedná se o tzv. Jupyter notebook, který se skládá z bloků textu a bloků kódu v Pythonu. \r\n",
    "Vpravo od každé buňky se nachází tlačítko Run this cell (pokud ne, tak v horním panelu talčítko Run, alternativně Ctrl+Enter). Když jej stisknete, spustí se kód v dané buňce. Kód můžete upravovat, po úpravě jej ale znovu spusťte."
   ],
   "metadata": {}
  },
  {
   "cell_type": "markdown",
   "source": [
    "V tomto notebooku se podíváme na **souřadnice vektorů v bázích**. Jak víte, báze je soubor lineárně nezávislých vektorů, které generují daný vektorový prostor. V R2 tedy potřebujeme dva vektory, které neleží na přímce. Kdybychom vzali v R2 tři vektory, vždy už budou lineárně závislé.\r\n",
    "\r\n",
    "Zároveň jste si dokázali větu, že pro každý vektor z vektorového prostoru dokážete najít tzv. souřadnice v bázi, tedy koeficienty, pomocí nichž lze z báze vektor nakombinovat."
   ],
   "metadata": {}
  },
  {
   "cell_type": "markdown",
   "source": [
    "V následujícím appletu si můžete zvolit nějakou bázi *(x1, x2)* a vektor *v* a uvidíte, jak se dá vektor v nakombinovat z dané báze. Zároveň uvidíte, jak se nakombinuje ze standardní báze. Neboli uvidíte jeho souřadnice ve zvolené bázi a v bázi standardní."
   ],
   "metadata": {}
  },
  {
   "cell_type": "code",
   "execution_count": 9,
   "source": [
    "# Spustte tuto bunku\r\n",
    "from IPython.display import IFrame\r\n",
    "IFrame('https://www.geogebra.org/material/iframe/id/nkareatx/width/700/height/350/border/888888/sfsb/true/smb/false/stb/false/stbh/false/ai/false/asb/false/sri/false/rc/false/ld/false/sdz/true/ctl/false', width=700, height=350)\r\n"
   ],
   "outputs": [
    {
     "output_type": "execute_result",
     "data": {
      "text/html": [
       "\n",
       "        <iframe\n",
       "            width=\"700\"\n",
       "            height=\"350\"\n",
       "            src=\"https://www.geogebra.org/material/iframe/id/nkareatx/width/700/height/350/border/888888/sfsb/true/smb/false/stb/false/stbh/false/ai/false/asb/false/sri/false/rc/false/ld/false/sdz/true/ctl/false\"\n",
       "            frameborder=\"0\"\n",
       "            allowfullscreen\n",
       "        ></iframe>\n",
       "        "
      ],
      "text/plain": [
       "<IPython.lib.display.IFrame at 0x13d7eb3d9d0>"
      ]
     },
     "metadata": {},
     "execution_count": 9
    }
   ],
   "metadata": {}
  },
  {
   "cell_type": "markdown",
   "source": [
    "**Úkol 1:** Zde zkuste napsat funkci, která najde pro bázi a vektor souřadnice tohoto vektoru v dané bázi. Zkuste báze a vektor různě měnit.\r\n",
    "\r\n",
    "**Pozor:** Lze psát kód pouze v jazyce **Python**. Ten je ale velmi intuitivní, cokoliv případně najdete na internetu."
   ],
   "metadata": {}
  },
  {
   "cell_type": "code",
   "execution_count": 2,
   "source": [
    "baze = ((1,2),(-1,-1))\r\n",
    "vektor = (0,1)\r\n",
    "\r\n",
    "def najdi_koeficienty(baze, vektor):\r\n",
    "    ???\r\n",
    "    return koeficient1, koeficient2\r\n",
    "\r\n",
    "print(f\"Souradnice vektoru {vektor} v bazi {baze} jsou {najdi_koeficienty(baze, vektor)}\")"
   ],
   "outputs": [
    {
     "output_type": "stream",
     "name": "stdout",
     "text": [
      "Souradnice vektoru (0, 1) v bazi ((1, 2), (-1, -1)) jsou (1, 1)\n"
     ]
    }
   ],
   "metadata": {}
  },
  {
   "cell_type": "markdown",
   "source": [
    "V následující buňce si můžete zkontrolovat správnost."
   ],
   "metadata": {}
  },
  {
   "cell_type": "code",
   "execution_count": 3,
   "source": [
    "baze = ((1,2),(-1,-1))\r\n",
    "print(\"Správně\" if najdi_koeficienty(baze, (0,1)) == (1,1) else \"Špatně\")\r\n",
    "baze = ((0,1),(1,0))\r\n",
    "print(\"Správně\" if najdi_koeficienty(baze, (7.1,4.2)) == (4.2,7.1) else \"Špatně\")\r\n",
    "baze = ((1,0),(0,1))\r\n",
    "print(\"Správně\" if najdi_koeficienty(baze, (1.333,1/5)) == (1.333,1/5) else \"Špatně\")"
   ],
   "outputs": [
    {
     "output_type": "stream",
     "name": "stdout",
     "text": [
      "Správně\n",
      "Špatně\n",
      "Špatně\n"
     ]
    }
   ],
   "metadata": {}
  },
  {
   "cell_type": "markdown",
   "source": [
    "# Přechody mezi různými bázemi\r\n",
    "Vektor můžeme tedy popisovat pomocí souřadnic v různých bázích. Mezi těmito popisy pak lze různě přecházet.\r\n",
    "\r\n",
    "Co kdybychom se na daný vektorový prostor chtěli podívat optikou jiné než standardní báze? (Tedy vykreslit si místo složek vektorů jejich souřadnice ve zvolené bázi.)"
   ],
   "metadata": {}
  },
  {
   "cell_type": "markdown",
   "source": [
    "Nejdříve spusťte tyto importy."
   ],
   "metadata": {}
  },
  {
   "cell_type": "code",
   "execution_count": 4,
   "source": [
    "from manim import *\r\n",
    "from numpy import *\r\n",
    "import imports as imp"
   ],
   "outputs": [
    {
     "output_type": "display_data",
     "data": {
      "text/html": [
       "<pre style=\"white-space:pre;overflow-x:auto;line-height:normal;font-family:Menlo,'DejaVu Sans Mono',consolas,'Courier New',monospace\">Manim Community <span style=\"color: #008000; text-decoration-color: #008000\">v0.11.0</span>\n",
       "\n",
       "</pre>\n"
      ],
      "text/plain": [
       "Manim Community \u001b[32mv0.\u001b[0m\u001b[32m11.0\u001b[0m\n",
       "\n"
      ]
     },
     "metadata": {}
    }
   ],
   "metadata": {}
  },
  {
   "cell_type": "markdown",
   "source": [
    "Zde si nadefinujeme různé body, jejich názvy a také bázi, do níž chceme přejít."
   ],
   "metadata": {}
  },
  {
   "cell_type": "code",
   "execution_count": 5,
   "source": [
    "body = [(2,0), (2,2), (0,2), (-2,2), (-2,0), (-2,-2), (0,-2), (2,-2)]\r\n",
    "nazvy_bodu = ['A', 'B', 'C', 'D', 'E', 'F', 'G', 'H']\r\n",
    "\r\n",
    "baze = ((1,1), (1,-1))"
   ],
   "outputs": [],
   "metadata": {}
  },
  {
   "cell_type": "markdown",
   "source": [
    "Poté už jen spusťte tento kód a vytvoří se animace. Buďte trpěliví, tvorba animace chvilku trvá."
   ],
   "metadata": {}
  },
  {
   "cell_type": "code",
   "execution_count": 6,
   "source": [
    "%%manim -v WARNING --disable_caching -ql --frame_rate 30 Base\r\n",
    "# pro rychlejsi animaci upravte frame_rate, nizsi je rychlejsi\r\n",
    "config.media_width = \"75%\"\r\n",
    "\r\n",
    "class Base(LinearTransformationScene):\r\n",
    "    def construct(self):\r\n",
    "        imp.animate(self, body, nazvy_bodu, baze)    "
   ],
   "outputs": [
    {
     "output_type": "stream",
     "name": "stderr",
     "text": []
    },
    {
     "output_type": "display_data",
     "data": {
      "text/html": [
       "<video src=\"media\\jupyter\\Base@2021-10-19@20-05-06.mp4\" controls autoplay loop style=\"max-width: 75%;\"  >\n",
       "      Your browser does not support the <code>video</code> element.\n",
       "    </video>"
      ],
      "text/plain": [
       "<IPython.core.display.Video object>"
      ]
     },
     "metadata": {}
    }
   ],
   "metadata": {}
  },
  {
   "cell_type": "markdown",
   "source": [
    "Tady si můžete zadat libovolnou křivku, kterou pak budete chtít zobrazit v nových souřadnicích. Můžete si vybrat, jestli chcete parametrickou křivku nebo křivku zadanou implicitně.\r\n",
    "\r\n",
    "**Rychlokurz křivek:** Křivka zadaná parametricky je křivka, jejíž složky lze popsat pomocí jednoho parametru, tedy například kružnice s poloměrem 1 lze napsat jako x=cos(t), y=sin(t), v jednom vektoru jako (cos(t), sin(t)), kde t je parametr. Přímka y=2x lze parametricky zapsat jako (t, 2t). \r\n",
    "\r\n",
    "Křivka zadaná implicitně je zadaná rovnicí, která nějak svazuje složky. Obecně lze napsat ve tvaru F(x,y)=0. Například kružnice s poloměrem 1 lze zapsat jako x^2 + y^2 - 1 = 0, takže F(x,y) = x^2 + y^2 - 1. Přímka y=2x by byla zadána jako 2x-y=0, tedy F(x,y) = 2x - y.\r\n",
    "\r\n",
    "S křivkami se ještě setkáte v matematické analýze, případně v předmětu Úvod do křivek a ploch.\r\n",
    "\r\n",
    "**Úkol 2:** Najděte takové báze, ve kterých budou zadané elipsy vypadat jako kruh. Existuje víc možností?\r\n",
    "\r\n",
    "**Hint:** V těchto příkladech to jde \"vykoukat\" z videa."
   ],
   "metadata": {}
  },
  {
   "cell_type": "code",
   "execution_count": 4,
   "source": [
    "baze = ((1,1), (1,-1))\r\n",
    "\r\n",
    "def curve_parametric(t):\r\n",
    "        return (3*cos(t)-2*sin(t), 3*cos(t)+2*sin(t)) # jednotková kružnice by byla: return (cos(t), sin(t))\r\n",
    "\r\n",
    "def curve_implicit(x, y):\r\n",
    "        return ((2*x+y)/10)**2 + ((x-2*y)/5)**2 - 1 # jednotková kružnice by byla: return x^2 + y^2 - 1"
   ],
   "outputs": [],
   "metadata": {}
  },
  {
   "cell_type": "code",
   "execution_count": 6,
   "source": [
    "%%manim -v WARNING --disable_caching -ql --frame_rate 30 Base \r\n",
    "# pro rychlejsi animaci upravte frame_rate, nizsi je rychlejsi\r\n",
    "config.media_width = \"75%\"\r\n",
    "\r\n",
    "class Base(LinearTransformationScene):\r\n",
    "    def construct(self):\r\n",
    "        imp.animate_curve(self, curve_implicit, baze)  # pro implicitni krivku vymente 'curve_parametric' za 'curve_implicit'\r\n"
   ],
   "outputs": [
    {
     "output_type": "stream",
     "name": "stderr",
     "text": []
    },
    {
     "output_type": "display_data",
     "data": {
      "text/html": [
       "<video src=\"media\\jupyter\\Base@2021-10-19@20-03-11.mp4\" controls autoplay loop style=\"max-width: 75%;\"  >\n",
       "      Your browser does not support the <code>video</code> element.\n",
       "    </video>"
      ],
      "text/plain": [
       "<IPython.core.display.Video object>"
      ]
     },
     "metadata": {}
    }
   ],
   "metadata": {}
  }
 ],
 "metadata": {
  "orig_nbformat": 4,
  "language_info": {
   "name": "python",
   "version": "3.9.6",
   "mimetype": "text/x-python",
   "codemirror_mode": {
    "name": "ipython",
    "version": 3
   },
   "pygments_lexer": "ipython3",
   "nbconvert_exporter": "python",
   "file_extension": ".py"
  },
  "kernelspec": {
   "name": "python3",
   "display_name": "Python 3.9.6 64-bit ('manim_env': conda)"
  },
  "interpreter": {
   "hash": "9792aed6d03180f47d41a5b5288ad1320e1327e20325d6461e23c4d17ff9cce1"
  }
 },
 "nbformat": 4,
 "nbformat_minor": 2
}