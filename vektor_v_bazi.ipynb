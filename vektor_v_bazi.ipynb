{
 "cells": [
  {
   "cell_type": "markdown",
   "source": [
    "# Vektor v různých bázích"
   ],
   "metadata": {}
  },
  {
   "cell_type": "markdown",
   "source": [
    "Vítejte v prvním **interaktivním notebooku** k přednášce z lineární algebry.\r\n",
    "Jedná se o tzv. Jupyter notebook, který se skládá z bloků textu a bloků kódu v Pythonu. \r\n",
    "Vpravo od každé buňky se nachází tlačítko Run this cell (alternativně Ctrl+Enter). Když jej stisknete, spustí se kód v dané buňce. Kód můžete upravovat, po úpravě jej ale znovu spusťte."
   ],
   "metadata": {}
  },
  {
   "cell_type": "markdown",
   "source": [
    "V tomto notebooku se podíváme na **souřadnice vektorů v bázích**. Jak víte, báze je uspořádaná n-tice vektorů, které generují daný vektorový prostor a jsou LN. V R2 tedy potřebujeme dva vektory, které neleží na přímce. Kdybychom vzali v R2 tři vektory, vždy už budou lineárně závislé.\r\n",
    "\r\n",
    "Zároveň jste si dokázali větu, že pro každý vektor z vektorového prostoru dokážete najít tzv. souřadnice v bázi, tedy koeficienty, pomocí nichž lze z báze vektor nakombinovat."
   ],
   "metadata": {}
  },
  {
   "cell_type": "markdown",
   "source": [
    "V následujícím appletu si můžete zvolit nějakou bázi x1, x2 a vektor v a uvidíte, jak se dá vektor v nakombinovat z dané báze. Zároveň uvidíte, jak se nakombinuje ze standardní báze."
   ],
   "metadata": {}
  },
  {
   "cell_type": "code",
   "execution_count": 9,
   "source": [
    "# Spustte tuto bunku\r\n",
    "from IPython.display import IFrame\r\n",
    "IFrame('https://www.geogebra.org/material/iframe/id/nkareatx/width/700/height/350/border/888888/sfsb/true/smb/false/stb/false/stbh/false/ai/false/asb/false/sri/false/rc/false/ld/false/sdz/true/ctl/false', width=700, height=350)\r\n"
   ],
   "outputs": [
    {
     "output_type": "execute_result",
     "data": {
      "text/html": [
       "\n",
       "        <iframe\n",
       "            width=\"700\"\n",
       "            height=\"350\"\n",
       "            src=\"https://www.geogebra.org/material/iframe/id/nkareatx/width/700/height/350/border/888888/sfsb/true/smb/false/stb/false/stbh/false/ai/false/asb/false/sri/false/rc/false/ld/false/sdz/true/ctl/false\"\n",
       "            frameborder=\"0\"\n",
       "            allowfullscreen\n",
       "        ></iframe>\n",
       "        "
      ],
      "text/plain": [
       "<IPython.lib.display.IFrame at 0x13d7eb3d9d0>"
      ]
     },
     "metadata": {},
     "execution_count": 9
    }
   ],
   "metadata": {}
  },
  {
   "cell_type": "markdown",
   "source": [
    "**Úkol 1:** Zde zkuste napsat funkci, která najde pro bázi a vektor souřadnice tohoto vektoru v dané bázi. Zkuste báze a vektor různě měnit."
   ],
   "metadata": {}
  },
  {
   "cell_type": "code",
   "execution_count": 2,
   "source": [
    "baze = ((1,2),(-1,-1))\r\n",
    "vektor = (0,1)\r\n",
    "\r\n",
    "def najdi_koeficienty(baze, vektor):\r\n",
    "    ???\r\n",
    "    return koeficient1, koeficient2\r\n"
   ],
   "outputs": [],
   "metadata": {}
  },
  {
   "cell_type": "markdown",
   "source": [
    "V následující buňce zkontrolujte správnost."
   ],
   "metadata": {}
  },
  {
   "cell_type": "code",
   "execution_count": 7,
   "source": [
    "baze = ((1,2),(-1,-1))\r\n",
    "print(\"Správně\" if najdi_koeficienty(baze, (0,1)) == (1,1) else \"Špatně\")\r\n",
    "baze = ((0,1),(1,0))\r\n",
    "print(\"Správně\" if najdi_koeficienty(baze, (7.1,4.2)) == (4.2,7.1) else \"Špatně\")\r\n",
    "baze = ((1,0),(0,1))\r\n",
    "print(\"Správně\" if najdi_koeficienty(baze, (1.333,1/5)) == (1.333,1/5) else \"Špatně\")"
   ],
   "outputs": [
    {
     "output_type": "stream",
     "name": "stdout",
     "text": [
      "Správně\n",
      "Správně\n",
      "Správně\n"
     ]
    }
   ],
   "metadata": {}
  },
  {
   "cell_type": "markdown",
   "source": [
    "# Přechody mezi různými bázemi\r\n",
    "Vektor můžeme tedy popisovat pomocí souřadnic v různých bázích. Mezi těmito popisy pak lze různě přecházet.\r\n",
    "\r\n",
    "Co kdybychom se na daný vektorový prostor chtěli podívat optikou jiné než standardní báze?"
   ],
   "metadata": {}
  },
  {
   "cell_type": "markdown",
   "source": [
    "Nejdříve spusťte tyto importy."
   ],
   "metadata": {}
  },
  {
   "cell_type": "code",
   "execution_count": null,
   "source": [
    "from manim import *\r\n",
    "import numpy as np\r\n",
    "import imports as imp"
   ],
   "outputs": [],
   "metadata": {}
  },
  {
   "cell_type": "markdown",
   "source": [
    "Zde si nadefinujeme různé body, jejich názvy a také bázi, do níž chceme přejít."
   ],
   "metadata": {}
  },
  {
   "cell_type": "code",
   "execution_count": null,
   "source": [
    "body = [(2,0), (2,2), (0,2), (-2,2), (-2,0), (-2,-2), (0,-2), (2,-2)]\r\n",
    "nazvy_bodu = ['A', 'B', 'C', 'D', 'E', 'F', 'G', 'H']\r\n",
    "\r\n",
    "baze = ((1,1), (1,-1))"
   ],
   "outputs": [],
   "metadata": {}
  },
  {
   "cell_type": "markdown",
   "source": [
    "Poté už jen spusťte tento kód a vytvoří se animace"
   ],
   "metadata": {}
  },
  {
   "cell_type": "code",
   "execution_count": null,
   "source": [
    "%%manim -v WARNING --disable_caching -ql --frame_rate 30 Base\r\n",
    "config.media_width = \"75%\"\r\n",
    "\r\n",
    "class Base(LinearTransformationScene):\r\n",
    "    def construct(self):\r\n",
    "        imp.animate(self, body, nazvy_bodu, baze)    "
   ],
   "outputs": [],
   "metadata": {}
  },
  {
   "cell_type": "markdown",
   "source": [
    "Tady si můžete zadat libovolnou křivku, kterou pak budete chtít zobrazit v nových souřadnicích. Můžete si vybrat, jestli chcete parametrickou křivku nebo křivku zadanou implicitně (tj. tvar F(x,y) = 0, např. x+y-1=0, funkce vrací F(x,y)). V obou případech najdete ve výchozím stavu elipsu.\r\n",
    "\r\n",
    "**Úkol 2:** Najděte takové báze, ve kterých budou zadané elipsy vypadat jako kruh. Existuje víc možností?"
   ],
   "metadata": {}
  },
  {
   "cell_type": "code",
   "execution_count": null,
   "source": [
    "baze = ((1,1), (1,-1))\r\n",
    "\r\n",
    "def curve_parametric(t):\r\n",
    "        return np.array((3*np.cos(t)-2*np.sin(t), 3*np.cos(t)+2*np.sin(t), 0))\r\n",
    "\r\n",
    "def curve_implicit(x, y):\r\n",
    "        return ((2*x+y)/10)**2 + ((x-2*y)/5)**2 - 1"
   ],
   "outputs": [],
   "metadata": {}
  },
  {
   "cell_type": "code",
   "execution_count": null,
   "source": [
    "%%manim -v WARNING --disable_caching -ql --frame_rate 30 Base \r\n",
    "# pro rychlejsi animaci upravte frame_rate, nizsi je rychlejsi\r\n",
    "config.media_width = \"75%\"\r\n",
    "\r\n",
    "class Base(LinearTransformationScene):\r\n",
    "    def construct(self):\r\n",
    "        imp.animate_curve(self, curve_parametric, baze)  # pro implicitni krivku vymente 'curve_parametric' za 'curve_implicit'\r\n"
   ],
   "outputs": [],
   "metadata": {}
  }
 ],
 "metadata": {
  "orig_nbformat": 4,
  "language_info": {
   "name": "python",
   "version": "3.9.6",
   "mimetype": "text/x-python",
   "codemirror_mode": {
    "name": "ipython",
    "version": 3
   },
   "pygments_lexer": "ipython3",
   "nbconvert_exporter": "python",
   "file_extension": ".py"
  },
  "kernelspec": {
   "name": "python3",
   "display_name": "Python 3.9.6 64-bit ('manim_env': conda)"
  },
  "interpreter": {
   "hash": "9792aed6d03180f47d41a5b5288ad1320e1327e20325d6461e23c4d17ff9cce1"
  }
 },
 "nbformat": 4,
 "nbformat_minor": 2
}